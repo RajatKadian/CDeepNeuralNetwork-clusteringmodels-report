{
 "cells": [
  {
   "cell_type": "code",
   "execution_count": 10,
   "id": "d70b6744",
   "metadata": {},
   "outputs": [],
   "source": [
    "from sklearn.model_selection import GridSearchCV\n",
    "from sklearn.metrics import classification_report\n",
    "from sklearn.model_selection import train_test_split\n",
    "from sklearn.preprocessing import StandardScaler\n",
    "from sklearn.svm import SVC\n"
   ]
  },
  {
   "cell_type": "code",
   "execution_count": 11,
   "id": "b7285e8f",
   "metadata": {},
   "outputs": [],
   "source": [
    "def hyper(features, target):\n",
    "    # Split data into train+validation set and test set\n",
    "    X_trainval, X_test, y_trainval, y_test = train_test_split(features, target, random_state=0)\n",
    "\n",
    "    # Split train+validation set into training and validation sets\n",
    "    X_train, X_valid, y_train, y_valid = train_test_split(X_trainval, y_trainval, random_state=1)\n",
    "\n",
    "    # Apply feature scaling to input data\n",
    "    scaler = StandardScaler()\n",
    "    X_train_scaled = scaler.fit_transform(X_train)\n",
    "    X_valid_scaled = scaler.transform(X_valid)\n",
    "    X_test_scaled = scaler.transform(X_test)\n",
    "\n",
    "    # Set the parameter grid\n",
    "#     grid_parameters = {'kernel': ['rbf', 'poly'], 'gamma': [0.1, 1, 10], 'C': [0.1, 1, 10]}\n",
    "\n",
    "    grid_parameters = {'kernel': ['poly'], 'gamma': [10], 'C': [10]}\n",
    "    \n",
    "    \n",
    "    # Perform hyperparameter tuning\n",
    "    print(\"# Tuning hyper-parameters for accuracy\\n it will take around 1 min 45 seconds\")\n",
    "\n",
    "    clf = GridSearchCV(SVC(random_state=42), grid_parameters, cv=3, scoring='accuracy', n_jobs=4)\n",
    "    clf.fit(X_train_scaled, y_train)\n",
    "\n",
    "    # View accuracy scores for all the models\n",
    "    print(\"Grid scores for all the models based on CV:\\n\")\n",
    "    means = clf.cv_results_['mean_test_score']\n",
    "    stds = clf.cv_results_['std_test_score']\n",
    "\n",
    "    for mean, std, params in zip(means, stds, clf.cv_results_['params']):\n",
    "        print(\"%0.5f (+/-%0.05f) for %r\" % (mean, std * 2, params))\n",
    "\n",
    "    # Check out the best model performance\n",
    "    print(\"\\nBest parameters set found on development set:\", clf.best_params_)\n",
    "    print(\"Best model validation accuracy:\", clf.best_score_)\n",
    "\n",
    "    gs_best = clf.best_estimator_\n",
    "    tuned_y_pred = gs_best.predict(X_test_scaled)\n",
    "    print('\\n\\nTuned Model Stats:')\n",
    "    print(\"Classification Report\")\n",
    "    print(classification_report(y_test, tuned_y_pred, target_names=['No', 'Yes']))\n"
   ]
  },
  {
   "cell_type": "code",
   "execution_count": 12,
   "id": "44de6955",
   "metadata": {},
   "outputs": [],
   "source": [
    "def sample(value):\n",
    "    if value == 0:\n",
    "        print(\"This group belong to Class 0 which means they are not very dangerous group higher values for length, weight, count, looped, neighbors\")\n",
    "    elif (value == 1):\n",
    "        print (\"This group belong to class 1 more dangerous group members are white, montrealCrypto, montrealCryptConsole they have certain attacking style lower values for length, weight, count, looped, neighbors\")      \n",
    "            \n",
    "    "
   ]
  },
  {
   "cell_type": "code",
   "execution_count": null,
   "id": "6bba88d4",
   "metadata": {},
   "outputs": [],
   "source": []
  }
 ],
 "metadata": {
  "kernelspec": {
   "display_name": "Python 3 (ipykernel)",
   "language": "python",
   "name": "python3"
  },
  "language_info": {
   "codemirror_mode": {
    "name": "ipython",
    "version": 3
   },
   "file_extension": ".py",
   "mimetype": "text/x-python",
   "name": "python",
   "nbconvert_exporter": "python",
   "pygments_lexer": "ipython3",
   "version": "3.10.9"
  }
 },
 "nbformat": 4,
 "nbformat_minor": 5
}
